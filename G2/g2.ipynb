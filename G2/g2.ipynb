{
 "cells": [
  {
   "cell_type": "code",
   "execution_count": 1,
   "id": "bcc8e7b7-1244-4660-ab01-66b444b6095e",
   "metadata": {},
   "outputs": [
    {
     "name": "stdout",
     "output_type": "stream",
     "text": [
      "C:\\Work\\DS Study\\G2\\Data\n"
     ]
    }
   ],
   "source": [
    "import os\n",
    "# Set the working directory to your desired path\n",
    "os.chdir(r'C:\\Work\\DS Study\\G2\\Data')\n",
    "\n",
    "# Verify the change\n",
    "print(os.getcwd())\n"
   ]
  },
  {
   "cell_type": "code",
   "execution_count": 2,
   "id": "d34b4771-8cb3-4a27-9483-d8814fa110a8",
   "metadata": {},
   "outputs": [],
   "source": [
    "import pandas as pd\n",
    "from datetime import datetime"
   ]
  },
  {
   "cell_type": "code",
   "execution_count": 3,
   "id": "f9d9c02b-0f7c-4f7d-b8f6-139534e338de",
   "metadata": {},
   "outputs": [
    {
     "name": "stdout",
     "output_type": "stream",
     "text": [
      "   tradable  mode  instrument_token  last_price  last_traded_quantity  \\\n",
      "0      True  full           1510401     1170.05                     5   \n",
      "1      True  full           1510401     1170.15                     1   \n",
      "2      True  full           1510401     1170.05                     1   \n",
      "3      True  full           1510401     1170.05                     1   \n",
      "4      True  full           1510401     1170.00                     1   \n",
      "\n",
      "   average_traded_price  volume_traded  total_buy_quantity  \\\n",
      "0               1163.58        1086986              319149   \n",
      "1               1163.58        1086986              319149   \n",
      "2               1163.58        1087097              319789   \n",
      "3               1163.58        1087098              319835   \n",
      "4               1163.58        1087098              319835   \n",
      "\n",
      "   total_sell_quantity                                               ohlc  \\\n",
      "0               383084  {'open': 1158.0, 'high': 1170.7, 'low': 1154.6...   \n",
      "1               383084  {'open': 1158.0, 'high': 1170.7, 'low': 1154.6...   \n",
      "2               383092  {'open': 1158.0, 'high': 1170.7, 'low': 1154.6...   \n",
      "3               383412  {'open': 1158.0, 'high': 1170.7, 'low': 1154.6...   \n",
      "4               383412  {'open': 1158.0, 'high': 1170.7, 'low': 1154.6...   \n",
      "\n",
      "     change     last_trade_time  oi  oi_day_high  oi_day_low  \\\n",
      "0  1.456753 2024-08-20 10:14:42   0            0           0   \n",
      "1  1.465424 2024-08-20 10:14:42   0            0           0   \n",
      "2  1.456753 2024-08-20 10:14:42   0            0           0   \n",
      "3  1.456753 2024-08-20 10:14:43   0            0           0   \n",
      "4  1.452417 2024-08-20 10:14:43   0            0           0   \n",
      "\n",
      "    exchange_timestamp                                              depth  \n",
      "0  2024-08-20T10:14:42  {'buy': [{'quantity': 1, 'price': 1170.05, 'or...  \n",
      "1  2024-08-20T10:14:42  {'buy': [{'quantity': 1, 'price': 1170.05, 'or...  \n",
      "2  2024-08-20T10:14:43  {'buy': [{'quantity': 1, 'price': 1170.05, 'or...  \n",
      "3  2024-08-20T10:14:44  {'buy': [{'quantity': 1, 'price': 1170.05, 'or...  \n",
      "4  2024-08-20T10:14:44  {'buy': [{'quantity': 1, 'price': 1170.05, 'or...  \n"
     ]
    }
   ],
   "source": [
    "df = pd.read_json(\"EQUITY_NSE_AXISBANK_ZERODHA.json\", lines = True)\n",
    "print(df.head())"
   ]
  },
  {
   "cell_type": "code",
   "execution_count": 4,
   "id": "83cdafa0-88d8-4453-9d10-a9edffa5595a",
   "metadata": {},
   "outputs": [],
   "source": [
    "columns_retain = ['exchange_timestamp', 'last_price']\n",
    "df = df[columns_retain]\n",
    "df['exchange_timestamp'] = pd.to_datetime(df['exchange_timestamp'])\n",
    "df.set_index('exchange_timestamp', inplace=True)"
   ]
  },
  {
   "cell_type": "code",
   "execution_count": 5,
   "id": "0cf211c4-4a81-46f6-bafc-618b43a5027c",
   "metadata": {},
   "outputs": [],
   "source": [
    "df_resampled = df.resample('1min').mean() #.ohlc()"
   ]
  },
  {
   "cell_type": "code",
   "execution_count": 6,
   "id": "3028d1a6-8088-4c9c-afa7-b0ee656a873a",
   "metadata": {},
   "outputs": [
    {
     "data": {
      "text/html": [
       "<div>\n",
       "<style scoped>\n",
       "    .dataframe tbody tr th:only-of-type {\n",
       "        vertical-align: middle;\n",
       "    }\n",
       "\n",
       "    .dataframe tbody tr th {\n",
       "        vertical-align: top;\n",
       "    }\n",
       "\n",
       "    .dataframe thead th {\n",
       "        text-align: right;\n",
       "    }\n",
       "</style>\n",
       "<table border=\"1\" class=\"dataframe\">\n",
       "  <thead>\n",
       "    <tr style=\"text-align: right;\">\n",
       "      <th></th>\n",
       "      <th>last_price</th>\n",
       "    </tr>\n",
       "    <tr>\n",
       "      <th>exchange_timestamp</th>\n",
       "      <th></th>\n",
       "    </tr>\n",
       "  </thead>\n",
       "  <tbody>\n",
       "    <tr>\n",
       "      <th>2024-08-20 10:14:00</th>\n",
       "      <td>1170.061667</td>\n",
       "    </tr>\n",
       "    <tr>\n",
       "      <th>2024-08-20 10:15:00</th>\n",
       "      <td>1169.250556</td>\n",
       "    </tr>\n",
       "    <tr>\n",
       "      <th>2024-08-20 10:16:00</th>\n",
       "      <td>1169.086264</td>\n",
       "    </tr>\n",
       "    <tr>\n",
       "      <th>2024-08-20 10:17:00</th>\n",
       "      <td>1169.142529</td>\n",
       "    </tr>\n",
       "    <tr>\n",
       "      <th>2024-08-20 10:18:00</th>\n",
       "      <td>1169.278409</td>\n",
       "    </tr>\n",
       "    <tr>\n",
       "      <th>...</th>\n",
       "      <td>...</td>\n",
       "    </tr>\n",
       "    <tr>\n",
       "      <th>2024-08-20 15:25:00</th>\n",
       "      <td>1167.063415</td>\n",
       "    </tr>\n",
       "    <tr>\n",
       "      <th>2024-08-20 15:26:00</th>\n",
       "      <td>1166.345402</td>\n",
       "    </tr>\n",
       "    <tr>\n",
       "      <th>2024-08-20 15:27:00</th>\n",
       "      <td>1165.538710</td>\n",
       "    </tr>\n",
       "    <tr>\n",
       "      <th>2024-08-20 15:28:00</th>\n",
       "      <td>1165.141758</td>\n",
       "    </tr>\n",
       "    <tr>\n",
       "      <th>2024-08-20 15:29:00</th>\n",
       "      <td>1165.337097</td>\n",
       "    </tr>\n",
       "  </tbody>\n",
       "</table>\n",
       "<p>316 rows × 1 columns</p>\n",
       "</div>"
      ],
      "text/plain": [
       "                      last_price\n",
       "exchange_timestamp              \n",
       "2024-08-20 10:14:00  1170.061667\n",
       "2024-08-20 10:15:00  1169.250556\n",
       "2024-08-20 10:16:00  1169.086264\n",
       "2024-08-20 10:17:00  1169.142529\n",
       "2024-08-20 10:18:00  1169.278409\n",
       "...                          ...\n",
       "2024-08-20 15:25:00  1167.063415\n",
       "2024-08-20 15:26:00  1166.345402\n",
       "2024-08-20 15:27:00  1165.538710\n",
       "2024-08-20 15:28:00  1165.141758\n",
       "2024-08-20 15:29:00  1165.337097\n",
       "\n",
       "[316 rows x 1 columns]"
      ]
     },
     "execution_count": 6,
     "metadata": {},
     "output_type": "execute_result"
    }
   ],
   "source": [
    "df_resampled"
   ]
  },
  {
   "cell_type": "code",
   "execution_count": 7,
   "id": "59a03f59-356f-44f5-adea-c66cd47a91e2",
   "metadata": {},
   "outputs": [
    {
     "data": {
      "image/png": "[encoded data removed]",
      "text/plain": [
       "<Figure size 640x480 with 1 Axes>"
      ]
     },
     "metadata": {},
     "output_type": "display_data"
    }
   ],
   "source": [
    "from matplotlib import pyplot\n",
    "interpolated = df_resampled.interpolate(method='linear')\n",
    "interpolated.plot()\n",
    "pyplot.show()"
   ]
  },
  {
   "cell_type": "code",
   "execution_count": 14,
   "id": "8f12bfed-d1ee-4d4e-9c06-8fa757541ddb",
   "metadata": {},
   "outputs": [
    {
     "ename": "ValueError",
     "evalue": "freq MIN not understood. Please report if you think this is in error.",
     "output_type": "error",
     "traceback": [
      "\u001b[1;31m---------------------------------------------------------------------------\u001b[0m",
      "\u001b[1;31mValueError\u001b[0m                                Traceback (most recent call last)",
      "Cell \u001b[1;32mIn[14], line 5\u001b[0m\n\u001b[0;32m      3\u001b[0m df_resampled[\u001b[38;5;124m'\u001b[39m\u001b[38;5;124mlast_price\u001b[39m\u001b[38;5;124m'\u001b[39m] \u001b[38;5;241m=\u001b[39m df_resampled[\u001b[38;5;124m'\u001b[39m\u001b[38;5;124mlast_price\u001b[39m\u001b[38;5;124m'\u001b[39m]\u001b[38;5;241m.\u001b[39mffill()\n\u001b[0;32m      4\u001b[0m df_resampled\n\u001b[1;32m----> 5\u001b[0m decomposition \u001b[38;5;241m=\u001b[39m seasonal_decompose(df_resampled[\u001b[38;5;124m'\u001b[39m\u001b[38;5;124mlast_price\u001b[39m\u001b[38;5;124m'\u001b[39m], model\u001b[38;5;241m=\u001b[39m\u001b[38;5;124m'\u001b[39m\u001b[38;5;124madditive\u001b[39m\u001b[38;5;124m'\u001b[39m)\n",
      "File \u001b[1;32m~\\anaconda3\\Lib\\site-packages\\statsmodels\\tsa\\seasonal.py:164\u001b[0m, in \u001b[0;36mseasonal_decompose\u001b[1;34m(x, model, filt, period, two_sided, extrapolate_trend)\u001b[0m\n\u001b[0;32m    162\u001b[0m \u001b[38;5;28;01mif\u001b[39;00m period \u001b[38;5;129;01mis\u001b[39;00m \u001b[38;5;28;01mNone\u001b[39;00m:\n\u001b[0;32m    163\u001b[0m     \u001b[38;5;28;01mif\u001b[39;00m pfreq \u001b[38;5;129;01mis\u001b[39;00m \u001b[38;5;129;01mnot\u001b[39;00m \u001b[38;5;28;01mNone\u001b[39;00m:\n\u001b[1;32m--> 164\u001b[0m         pfreq \u001b[38;5;241m=\u001b[39m freq_to_period(pfreq)\n\u001b[0;32m    165\u001b[0m         period \u001b[38;5;241m=\u001b[39m pfreq\n\u001b[0;32m    166\u001b[0m     \u001b[38;5;28;01melse\u001b[39;00m:\n",
      "File \u001b[1;32m~\\anaconda3\\Lib\\site-packages\\statsmodels\\tsa\\tsatools.py:824\u001b[0m, in \u001b[0;36mfreq_to_period\u001b[1;34m(freq)\u001b[0m\n\u001b[0;32m    822\u001b[0m     \u001b[38;5;28;01mreturn\u001b[39;00m \u001b[38;5;241m24\u001b[39m\n\u001b[0;32m    823\u001b[0m \u001b[38;5;28;01melse\u001b[39;00m:  \u001b[38;5;66;03m# pragma : no cover\u001b[39;00m\n\u001b[1;32m--> 824\u001b[0m     \u001b[38;5;28;01mraise\u001b[39;00m \u001b[38;5;167;01mValueError\u001b[39;00m(\n\u001b[0;32m    825\u001b[0m         \u001b[38;5;124m\"\u001b[39m\u001b[38;5;124mfreq \u001b[39m\u001b[38;5;132;01m{}\u001b[39;00m\u001b[38;5;124m not understood. Please report if you \u001b[39m\u001b[38;5;124m\"\u001b[39m\n\u001b[0;32m    826\u001b[0m         \u001b[38;5;124m\"\u001b[39m\u001b[38;5;124mthink this is in error.\u001b[39m\u001b[38;5;124m\"\u001b[39m\u001b[38;5;241m.\u001b[39mformat(freq)\n\u001b[0;32m    827\u001b[0m     )\n",
      "\u001b[1;31mValueError\u001b[0m: freq MIN not understood. Please report if you think this is in error."
     ]
    }
   ],
   "source": [
    " from statsmodels.tsa.seasonal import seasonal_decompose\n",
    " df_resampled = df_resampled.asfreq('min')\n",
    " df_resampled['last_price'] = df_resampled['last_price'].ffill()\n",
    " df_resampled\n",
    " decomposition = seasonal_decompose(df_resampled['last_price'], model='additive')"
   ]
  },
  {
   "cell_type": "code",
   "execution_count": null,
   "id": "6a92a69f-4139-48d5-8c59-ac13e4dadebf",
   "metadata": {},
   "outputs": [],
   "source": []
  }
 ],
 "metadata": {
  "kernelspec": {
   "display_name": "Python 3 (ipykernel)",
   "language": "python",
   "name": "python3"
  },
  "language_info": {
   "codemirror_mode": {
    "name": "ipython",
    "version": 3
   },
   "file_extension": ".py",
   "mimetype": "text/x-python",
   "name": "python",
   "nbconvert_exporter": "python",
   "pygments_lexer": "ipython3",
   "version": "3.12.4"
  }
 },
 "nbformat": 4,
 "nbformat_minor": 5
}
